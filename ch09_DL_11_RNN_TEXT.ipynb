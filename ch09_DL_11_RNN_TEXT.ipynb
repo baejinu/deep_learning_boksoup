{
  "nbformat": 4,
  "nbformat_minor": 0,
  "metadata": {
    "colab": {
      "provenance": [],
      "include_colab_link": true
    },
    "kernelspec": {
      "name": "python3",
      "display_name": "Python 3"
    },
    "language_info": {
      "name": "python"
    },
    "accelerator": "GPU",
    "gpuClass": "standard"
  },
  "cells": [
    {
      "cell_type": "markdown",
      "metadata": {
        "id": "view-in-github",
        "colab_type": "text"
      },
      "source": [
        "<a href=\"https://colab.research.google.com/github/baejinu/deep_learning_boksoup/blob/main/ch09_DL_11_RNN_TEXT.ipynb\" target=\"_parent\"><img src=\"https://colab.research.google.com/assets/colab-badge.svg\" alt=\"Open In Colab\"/></a>"
      ]
    },
    {
      "cell_type": "markdown",
      "source": [
        "# 영화 리뷰 감정 분석\n",
        "* RNN은 동영상, 자연어, 주가 등 동적인 데이터를 이용할 때 성능이 극대화\n",
        "* 자연어 : 일상적으로 사용하는 말을 프로그래밍 언어와 구분하여 부르는 말"
      ],
      "metadata": {
        "id": "uUNeCTOxh9xo"
      }
    },
    {
      "cell_type": "markdown",
      "source": [
        "> 자연어에서 감정 분석과 감성 분석이 다른 말이야?\n",
        "* https://shareg.pt/IZAnp6f\n"
      ],
      "metadata": {
        "id": "6-ZpD4VQE8xo"
      }
    },
    {
      "cell_type": "markdown",
      "source": [
        "* IMDB 데이터셋\n",
        "    * 텍스트 형태의 데이터셋\n",
        "    * 50,000건의 영화 리뷰로 이루어져 있음\n",
        "    * 각 리뷰는 다수의 영어 문장들로 이루어져 있으며, 평점이 7점 이상의 긍정적인 영화 리뷰는 2로, 평점이 4점 이하인 부정적인 영화 리뷰는 1로 레이블링"
      ],
      "metadata": {
        "id": "PuJJHJMxiPVH"
      }
    },
    {
      "cell_type": "markdown",
      "source": [
        "* 영화 리뷰 텍스트를 RNN에 입력시켜 영화평의 전체 내용을 압축하고, 이렇게 압축된 리뷰 긍정적인지 부정적인지 판단해주는 간단한 분류 모델을 생성\n",
        "* 한글 데이터도 적용"
      ],
      "metadata": {
        "id": "dFncRVweihga"
      }
    },
    {
      "cell_type": "markdown",
      "source": [
        "* 워드 임베딩 word embedding: 언어의 최소 단위 -> 토큰화 => 벡터화 (라벨 인코딩)"
      ],
      "metadata": {
        "id": "N9Bpl4PVi0Tz"
      }
    },
    {
      "cell_type": "markdown",
      "source": [
        "## 자연어 전처리"
      ],
      "metadata": {
        "id": "fLDMNqjHjPVR"
      }
    },
    {
      "cell_type": "code",
      "execution_count": null,
      "metadata": {
        "colab": {
          "base_uri": "https://localhost:8080/"
        },
        "id": "lS0DyICgh4t7",
        "outputId": "72d73cd9-ef8a-4039-ddfb-a1be4d8abe46"
      },
      "outputs": [
        {
          "output_type": "stream",
          "name": "stdout",
          "text": [
            "Name: torch\n",
            "Version: 1.9.1\n",
            "Summary: Tensors and Dynamic neural networks in Python with strong GPU acceleration\n",
            "Home-page: https://pytorch.org/\n",
            "Author: PyTorch Team\n",
            "Author-email: packages@pytorch.org\n",
            "License: BSD-3\n",
            "Location: /root/.local/lib/python3.9/site-packages\n",
            "Requires: typing-extensions\n",
            "Required-by: fastai, torchaudio, torchdata, torchtext, torchvision, triton\n",
            "---\n",
            "Name: torchtext\n",
            "Version: 0.10.1\n",
            "Summary: Text utilities and datasets for PyTorch\n",
            "Home-page: https://github.com/pytorch/text\n",
            "Author: PyTorch core devs and James Bradbury\n",
            "Author-email: jekbradbury@gmail.com\n",
            "License: BSD\n",
            "Location: /root/.local/lib/python3.9/site-packages\n",
            "Requires: numpy, requests, torch, tqdm\n",
            "Required-by: \n"
          ]
        }
      ],
      "source": [
        "!pip show torch torchtext\n",
        "# torch 1.9.1 / torchtext 0.10.1 (0.13.0 이전 사용)"
      ]
    },
    {
      "cell_type": "code",
      "source": [
        "# 특수한 버전으로 만들어주겠다 -> 런타임 다시 시작\n",
        "!pip install torchtext==0.10.1 --user -q"
      ],
      "metadata": {
        "id": "sjL4bssDjxVl"
      },
      "execution_count": null,
      "outputs": []
    },
    {
      "cell_type": "code",
      "source": [
        "!pip show torch torchtext"
      ],
      "metadata": {
        "colab": {
          "base_uri": "https://localhost:8080/"
        },
        "id": "iCvGpcmBIVXG",
        "outputId": "02a071c0-0f5d-4a61-c655-6c422ca71fb2"
      },
      "execution_count": null,
      "outputs": [
        {
          "output_type": "stream",
          "name": "stdout",
          "text": [
            "Name: torch\n",
            "Version: 1.9.1\n",
            "Summary: Tensors and Dynamic neural networks in Python with strong GPU acceleration\n",
            "Home-page: https://pytorch.org/\n",
            "Author: PyTorch Team\n",
            "Author-email: packages@pytorch.org\n",
            "License: BSD-3\n",
            "Location: /root/.local/lib/python3.9/site-packages\n",
            "Requires: typing-extensions\n",
            "Required-by: fastai, torchaudio, torchdata, torchtext, torchvision, triton\n",
            "---\n",
            "Name: torchtext\n",
            "Version: 0.10.1\n",
            "Summary: Text utilities and datasets for PyTorch\n",
            "Home-page: https://github.com/pytorch/text\n",
            "Author: PyTorch core devs and James Bradbury\n",
            "Author-email: jekbradbury@gmail.com\n",
            "License: BSD\n",
            "Location: /root/.local/lib/python3.9/site-packages\n",
            "Requires: numpy, requests, torch, tqdm\n",
            "Required-by: \n"
          ]
        }
      ]
    },
    {
      "cell_type": "code",
      "source": [
        "# 필수 라이브러리 임포트\n",
        "import os\n",
        "import torch\n",
        "import torch.nn as nn\n",
        "import torch.nn.functional as F\n",
        "from torchtext.legacy import data, datasets"
      ],
      "metadata": {
        "id": "R9IOmlG7kGyO"
      },
      "execution_count": null,
      "outputs": []
    },
    {
      "cell_type": "code",
      "source": [
        "# 하이퍼 패러미터 정의\n",
        "BATCH_SIZE = 64\n",
        "lr = 0.001\n",
        "EPOCHS = 10\n",
        "USE_CUDA = torch.cuda.is_available()\n",
        "DEVICE = torch.device(\"cuda\" if USE_CUDA else \"cpu\")\n",
        "print(f'running in {DEVICE}')"
      ],
      "metadata": {
        "colab": {
          "base_uri": "https://localhost:8080/"
        },
        "id": "oGMPhU6yk2PN",
        "outputId": "c8325d72-273a-4729-e7ec-42fe4a958b8d"
      },
      "execution_count": null,
      "outputs": [
        {
          "output_type": "stream",
          "name": "stdout",
          "text": [
            "running in cuda\n"
          ]
        }
      ]
    },
    {
      "cell_type": "code",
      "source": [
        "# 데이터 로딩하기\n",
        "TEXT = data.Field(sequential=True, batch_first=True, lower=True) # 데이터를 받아줄 빈 객체\n",
        "# sequential : 순서가 있는 데이터인가? / batch_first : 배치 사이즈 차원을 맨 앞으로 두겠다 / lower : 모두 소문자로 전처리\n",
        "LABEL = data.Field(sequential=False, batch_first=True) # 데이터를 받아줄 빈 객체\n",
        "# 0, 1 긍부정 여부 데이터"
      ],
      "metadata": {
        "id": "_9d_GMs9lkES"
      },
      "execution_count": null,
      "outputs": []
    },
    {
      "cell_type": "code",
      "source": [
        "# 훈련셋, 테스트셋으로 분리\n",
        "trainset, testset = datasets.IMDB.splits(TEXT, LABEL)"
      ],
      "metadata": {
        "id": "JGAiSU5pmiNR"
      },
      "execution_count": null,
      "outputs": []
    },
    {
      "cell_type": "code",
      "source": [
        "print(f\"훈련셋 : {len(trainset)}\")\n",
        "print(f\"시험셋 : {len(testset)}\")"
      ],
      "metadata": {
        "colab": {
          "base_uri": "https://localhost:8080/"
        },
        "id": "hL-jr7qImzcI",
        "outputId": "a9838ff6-d3e4-4a0e-d94e-8db85ef27ce1"
      },
      "execution_count": null,
      "outputs": [
        {
          "output_type": "stream",
          "name": "stdout",
          "text": [
            "훈련셋 : 25000\n",
            "시험셋 : 25000\n"
          ]
        }
      ]
    },
    {
      "cell_type": "code",
      "source": [
        "trainset[0].text[:10] # 자동으로 전처리가 되어 토큰화된 데이터 묶음"
      ],
      "metadata": {
        "colab": {
          "base_uri": "https://localhost:8080/"
        },
        "id": "MBsTyS7-nHKa",
        "outputId": "e3369d91-2766-4378-a172-0b03083b78fe"
      },
      "execution_count": null,
      "outputs": [
        {
          "output_type": "execute_result",
          "data": {
            "text/plain": [
              "['the',\n",
              " 'documentary',\n",
              " 'presents',\n",
              " 'an',\n",
              " 'original',\n",
              " 'theory',\n",
              " 'about',\n",
              " '\"guns,',\n",
              " 'germs',\n",
              " 'and']"
            ]
          },
          "metadata": {},
          "execution_count": 8
        }
      ]
    },
    {
      "cell_type": "code",
      "source": [
        "# 단어 사전 (vocab : 어휘)\n",
        "TEXT.build_vocab(trainset, min_freq=5) # 5번 이상 등장한 단어로 단어 사전 만들기\n",
        "# 학습데이터에서 5번 미만 등장한 데이터는 unk(unknown)으로 대체\n",
        "LABEL.build_vocab(trainset)"
      ],
      "metadata": {
        "id": "HgpjHenFna5k"
      },
      "execution_count": null,
      "outputs": []
    },
    {
      "cell_type": "code",
      "source": [
        "TEXT.vocab.freqs.most_common(100) # 단어의 등장 빈도"
      ],
      "metadata": {
        "colab": {
          "base_uri": "https://localhost:8080/"
        },
        "id": "7dZz_lzln2by",
        "outputId": "0c404ed0-2c96-4cce-e54e-a9efb4fa76e2"
      },
      "execution_count": null,
      "outputs": [
        {
          "output_type": "execute_result",
          "data": {
            "text/plain": [
              "[('the', 322198),\n",
              " ('a', 159953),\n",
              " ('and', 158572),\n",
              " ('of', 144462),\n",
              " ('to', 133967),\n",
              " ('is', 104171),\n",
              " ('in', 90527),\n",
              " ('i', 70480),\n",
              " ('this', 69714),\n",
              " ('that', 66292),\n",
              " ('it', 65505),\n",
              " ('/><br', 50935),\n",
              " ('was', 47024),\n",
              " ('as', 45102),\n",
              " ('for', 42843),\n",
              " ('with', 42729),\n",
              " ('but', 39764),\n",
              " ('on', 31619),\n",
              " ('movie', 30887),\n",
              " ('his', 29059),\n",
              " ('are', 28743),\n",
              " ('not', 28597),\n",
              " ('film', 27777),\n",
              " ('you', 27564),\n",
              " ('have', 27344),\n",
              " ('he', 26177),\n",
              " ('be', 25691),\n",
              " ('at', 22731),\n",
              " ('one', 22480),\n",
              " ('by', 21976),\n",
              " ('an', 21240),\n",
              " ('they', 20624),\n",
              " ('from', 19934),\n",
              " ('all', 19740),\n",
              " ('who', 19407),\n",
              " ('like', 18779),\n",
              " ('so', 18099),\n",
              " ('just', 17309),\n",
              " ('or', 16769),\n",
              " ('has', 16570),\n",
              " ('her', 16540),\n",
              " ('about', 16486),\n",
              " (\"it's\", 15970),\n",
              " ('some', 15280),\n",
              " ('if', 15189),\n",
              " ('out', 14510),\n",
              " ('what', 14055),\n",
              " ('very', 13633),\n",
              " ('when', 13609),\n",
              " ('more', 13170),\n",
              " ('there', 13094),\n",
              " ('she', 12234),\n",
              " ('would', 12027),\n",
              " ('even', 12010),\n",
              " ('good', 11926),\n",
              " ('my', 11766),\n",
              " ('only', 11566),\n",
              " ('their', 11317),\n",
              " ('no', 11273),\n",
              " ('really', 11065),\n",
              " ('had', 11042),\n",
              " ('which', 10898),\n",
              " ('can', 10797),\n",
              " ('up', 10776),\n",
              " ('were', 10528),\n",
              " ('see', 10410),\n",
              " ('than', 9807),\n",
              " ('we', 9417),\n",
              " ('-', 9355),\n",
              " ('been', 9074),\n",
              " ('into', 8990),\n",
              " ('get', 8959),\n",
              " ('will', 8926),\n",
              " ('story', 8743),\n",
              " ('much', 8739),\n",
              " ('because', 8736),\n",
              " ('most', 8477),\n",
              " ('how', 8456),\n",
              " ('other', 8229),\n",
              " ('also', 8007),\n",
              " ('first', 7985),\n",
              " ('its', 7963),\n",
              " ('time', 7945),\n",
              " ('do', 7904),\n",
              " (\"don't\", 7879),\n",
              " ('me', 7722),\n",
              " ('great', 7714),\n",
              " ('people', 7676),\n",
              " ('could', 7594),\n",
              " ('make', 7590),\n",
              " ('any', 7507),\n",
              " ('/>the', 7409),\n",
              " ('after', 7118),\n",
              " ('made', 7041),\n",
              " ('then', 6945),\n",
              " ('bad', 6816),\n",
              " ('think', 6773),\n",
              " ('being', 6390),\n",
              " ('many', 6388),\n",
              " ('him', 6385)]"
            ]
          },
          "metadata": {},
          "execution_count": 22
        }
      ]
    },
    {
      "cell_type": "code",
      "source": [
        "LABEL.vocab.freqs # pos : positive 긍정적인, nes : negative 부정적인"
      ],
      "metadata": {
        "colab": {
          "base_uri": "https://localhost:8080/"
        },
        "id": "YM4KxscLoN68",
        "outputId": "a9ff6251-3338-4db2-c6aa-a49263f5e85e"
      },
      "execution_count": null,
      "outputs": [
        {
          "output_type": "execute_result",
          "data": {
            "text/plain": [
              "Counter({'pos': 12500, 'neg': 12500})"
            ]
          },
          "metadata": {},
          "execution_count": 11
        }
      ]
    },
    {
      "cell_type": "code",
      "source": [
        "# 학습용 데이터를 학습셋 80% 검증셋 20%로 나누기 (validation)\n",
        "trainset, valset = trainset.split(split_ratio=0.8) # 0.8 : 학습셋, (1-0.8=0.2) 검증셋"
      ],
      "metadata": {
        "id": "2xLLRNJMtl0x"
      },
      "execution_count": null,
      "outputs": []
    },
    {
      "cell_type": "code",
      "source": [
        "BATCH_SIZE"
      ],
      "metadata": {
        "colab": {
          "base_uri": "https://localhost:8080/"
        },
        "id": "znG07vxrMVDD",
        "outputId": "0f6a50ec-d4d5-46cd-f8aa-1b55fd7524de"
      },
      "execution_count": null,
      "outputs": [
        {
          "output_type": "execute_result",
          "data": {
            "text/plain": [
              "64"
            ]
          },
          "metadata": {},
          "execution_count": 17
        }
      ]
    },
    {
      "cell_type": "code",
      "source": [
        "# 배치 로딩을 위한 데이터 로더\n",
        "# 텍스트 형태의 데이터도 모든 학습 데이터를 한 번에 처리 X\n",
        "# batch(배치) 단위로 쪼개서 학습을 진행 -> 반복할 때마다 배치를 생성해주는 반복자(iterator)\n",
        "train_iter, val_iter, test_iter = data.BucketIterator.splits(\n",
        "    (trainset, valset, testset),\n",
        "    batch_size=BATCH_SIZE,\n",
        "    shuffle=True, repeat=False\n",
        ")\n",
        "# 반복자 -> enumerate() 함수에 넣어서 반복해주면(루프) 배치 단위의 데이터셋만 뽑아올 수 있음"
      ],
      "metadata": {
        "id": "ArqdfH65t58I"
      },
      "execution_count": null,
      "outputs": []
    },
    {
      "cell_type": "code",
      "source": [
        "# 사전 속 단어의 개수, 레이블의 수\n",
        "vocab_size = len(TEXT.vocab)\n",
        "n_classes = 2"
      ],
      "metadata": {
        "id": "8nAJ4vKIutKg"
      },
      "execution_count": null,
      "outputs": []
    },
    {
      "cell_type": "code",
      "source": [
        "print(f\"[학습셋] {len(trainset)} / [검증셋] {len(valset)} / 테스트셋 {len(testset)} / [단어수] {vocab_size} / [클래스(라벨)] {n_classes}\")"
      ],
      "metadata": {
        "colab": {
          "base_uri": "https://localhost:8080/"
        },
        "id": "gtpsx2xmu0HX",
        "outputId": "6a9ca198-231f-4577-fc57-0989161ddbaf"
      },
      "execution_count": null,
      "outputs": [
        {
          "output_type": "stream",
          "name": "stdout",
          "text": [
            "[학습셋] 20000 / [검증셋] 5000 / 테스트셋 25000 / [단어수] 46159 / [클래스(라벨)] 2\n"
          ]
        }
      ]
    },
    {
      "cell_type": "markdown",
      "source": [
        "## RNN 모델 구현"
      ],
      "metadata": {
        "id": "VzZwbGL9vQDh"
      }
    },
    {
      "cell_type": "code",
      "source": [
        "class BasicGRU(nn.Module):\n",
        "    def __init__(self,\n",
        "                 n_layers, # 층 -> 은닉 벡터들의 층의 갯수 : 엄청 복잡한 모델이 아니라면, n_layers는 2 이하 통상 정의\n",
        "                 hidden_dim, # 층 내부의 너비\n",
        "                 n_vocab, # 단어 임베딩 관련\n",
        "                 embed_dim, # 단어 임베딩 관련\n",
        "                 n_classes, # 최종적으로 분류할 텍스트의 가짓수 (neg, pos)\n",
        "                 dropout_p=0.2\n",
        "                 ):\n",
        "        super(BasicGRU, self).__init__()\n",
        "        self.n_layers = n_layers\n",
        "        # 단어 임베딩 -> 단어들을 벡터화(라벨링)\n",
        "        self.embed = nn.Embedding(n_vocab, embed_dim)\n",
        "        # n_vocab : 전체 데이터셋의 모든 단어를 사전 형태로 나타냈을 때, 그 사전에 등재된 단어 수\n",
        "        # embed_dim : 임베딩 -> 단어 텐서가 가지는 차원값\n",
        "        # RNN을 통해 생성되는 은닉 벡터의 차원값과 드롭아웃을 정의\n",
        "        self.hidden_dim = hidden_dim\n",
        "        self.dropout = nn.Dropout(dropout_p)\n",
        "\n",
        "        # 단어 임베딩을 거친 텐서가 GRU로 입력\n",
        "        self.gru = nn.GRU(embed_dim, self.hidden_dim,\n",
        "                          num_layers=self.n_layers, batch_first=True)\n",
        "        # 시계열(순서) 데이터 -> 하나의 텐서 압축\n",
        "        self.out = nn.Linear(hidden_dim, n_classes)\n",
        "    \n",
        "    def forward(self, x): # 문장들 \n",
        "        x = self.embed(x) # 단어들이 일괄적으로 숫자값을 가지는 텐서로 변환\n",
        "        h_0 = self._init_state(batch_size=x.size(0)) # 젓번째 은닉 벡터 초기값 (H0)\n",
        "        x, _ = self.gru(x, h_0) # 입력 x를 첫번째 은닉 벡터 h_0과 함께 gru에 입력하면\n",
        "        # -> 은닉 벡터들이 시계열 배열 형태로 반환 -> (batch_size, 입력 x의 길이, hidden_dim) 3차원 텐서\n",
        "        # gru를 통해 나온 텐서 x -> [:, -1, :]\n",
        "        # -> 배치 내 모든 시계열 은닉 벡터들의 마지막 토큰들을 내포한 (batch_size, 1, hidden_dim)의 텐서를 추출\n",
        "        # => 텐서 내에 가장 최신 은닉값\n",
        "        h_t = x[:, -1, :] # 모든 데이터를 반영한 핵심값 (압축된 은닉 벡터)\n",
        "        # 특정한 영화평, 영화리뷰에 있는 모든 단어(토큰)들을 압축한 값\n",
        "        h_t = self.dropout(h_t)\n",
        "        logit = self.out(h_t)\n",
        "        return logit\n",
        "\n",
        "    def _init_state(self, batch_size=1):\n",
        "        # parameters() : 해당 신경망 모듈(nn.Module)의 가중치 정보를 iterator 형태로 반환\n",
        "        weight = next(self.parameters()).data # 실제 모델의 가중치\n",
        "        return weight.new(self.n_layers, batch_size, self.hidden_dim).zero_()\n",
        "        # 기존에 존재하던 가중치와 연결한 뒤 순전파에 사용되는 모양으로 바꾸고, 0으로 초기화"
      ],
      "metadata": {
        "id": "zyzVBCiMvSPI"
      },
      "execution_count": null,
      "outputs": []
    },
    {
      "cell_type": "code",
      "source": [
        "# 학습함수\n",
        "def train(model, optimizer, train_iter):\n",
        "    model.train()\n",
        "    for b, batch in enumerate(train_iter):\n",
        "        # b : 각 행의 인덱스, batch : 미니 배치 (학습을 위해 구분한 배치 사이즈 데이터)\n",
        "        x, y = batch.text.to(DEVICE), batch.label.to(DEVICE)\n",
        "        # y = pos, neg -> vocab -> 1, 2 -> 0, 1\n",
        "        y.data.sub_(1) # y값에 일괄적으로 1를 빼줘서, 1과 2를 0과 1로 변환\n",
        "        optimizer.zero_grad() # 최적화함수 -> 기울기 계산 리셋\n",
        "        # x를 모델에 입력해서 예측값인 logit 계산\n",
        "        logit = model(x) # logit = 0과 1 사이의 확률\n",
        "        # 손실 함수 -> 손실\n",
        "        loss = F.cross_entropy(logit, y) # 예측값과 정답값(라벨) 비교 -> 손실함수\n",
        "        loss.backward() # 역전파\n",
        "        optimizer.step() # 가중치 갱신"
      ],
      "metadata": {
        "id": "5_4AjwBaM9ij"
      },
      "execution_count": null,
      "outputs": []
    },
    {
      "cell_type": "code",
      "source": [
        "# 평가함수 (성능 측정을 위한)\n",
        "def evaluate(model, val_iter):\n",
        "    model.eval()\n",
        "    corrects, total_loss = 0, 0\n",
        "    for batch in val_iter:\n",
        "        x, y = batch.text.to(DEVICE), batch.label.to(DEVICE)\n",
        "        y.data.sub_(1)\n",
        "        # 기울기 계산 안함 (optimizer 있을 필요 X)\n",
        "        # x를 모델에 입력해서 예측값인 logit 계산\n",
        "        logit = model(x) # logit = 0과 1 사이의 확률\n",
        "        # 손실 함수 -> 손실\n",
        "        loss = F.cross_entropy(logit, y, reduction='sum') # 오차의 합\n",
        "        total_loss += loss.item()\n",
        "        # 예측값과 정답값이 일치하는 경우\n",
        "        # tensor.max(0) = 각 열에서의 최대값\n",
        "        # tensor.max(1) = 각 행에서의 최대값 / [1] -> 최대값의 인덱스 (0,1)\n",
        "        # max의 결과값 -> (최대값[0], 그 값의 인덱스(indices)[1])\n",
        "        # view -> y와 비교할 수 있게 같은 모양 변형 => 일치하는 건 True(1) 일치하지 않는 건 False(0)\n",
        "        # sum -> 일치하는 것들의 갯수만.\n",
        "        # https://velog.io/@jarvis_geun/torch.argmax-torch.max\n",
        "        corrects += (logit.max(1)[1].view(y.size()).data == y.data).sum()\n",
        "    size = len(val_iter.dataset) # 전체 데이터의 갯수\n",
        "    avg_loss = total_loss / size # 오차 평균\n",
        "    avg_accuracy = corrects / size * 100 # (%) - 정확도 평균\n",
        "    return avg_loss, avg_accuracy"
      ],
      "metadata": {
        "id": "5mNyCizzW7sA"
      },
      "execution_count": null,
      "outputs": []
    },
    {
      "cell_type": "code",
      "source": [
        "# 모델 객체 정의\n",
        "# 1 : 내부 GRU의 층 개수\n",
        "# 256 : 모델 내 은닉 벡터의 차원값\n",
        "# 128 : 임베딩(벡터화)된 토큰의 차원값\n",
        "# 0.5 : 드롭아웃 비중\n",
        "model = BasicGRU(1, 256, vocab_size, 128, n_classes, 0.5).to(DEVICE)"
      ],
      "metadata": {
        "id": "GWpX1Yn4ZBvO"
      },
      "execution_count": null,
      "outputs": []
    },
    {
      "cell_type": "code",
      "source": [
        "# 최적화함수\n",
        "# 최적화함수를 뭘 쓸지 모르면 Adam 써라!\n",
        "optimizer = torch.optim.Adam(model.parameters(), lr=lr)"
      ],
      "metadata": {
        "id": "w05XhQQtZhg7"
      },
      "execution_count": null,
      "outputs": []
    },
    {
      "cell_type": "code",
      "source": [
        "# 학습\n",
        "best_val_loss = None # 검증 오차를 최소화\n",
        "for epoch in range(1, EPOCHS+1):\n",
        "    train(model, optimizer, train_iter)\n",
        "    val_loss, val_accuracy = evaluate(model, val_iter)\n",
        "\n",
        "    # print(\"[에포크: %d] 검증 오차:%5.2f | 검증 정확도:%5.2f\" % (epoch, val_loss, val_accuracy))\n",
        "    # https://ooyoung.tistory.com/87\n",
        "    print(f\"[에포크: {epoch}] 검증 오차:{val_loss:5.2f} | 검증 정확도:{val_accuracy:5.2f}\")\n",
        "\n",
        "    # 검증 오차가 가장 적은 최적의 모델\n",
        "    if not best_val_loss or val_loss < best_val_loss:\n",
        "        # not best_val_loss = None은 not으로 취급 = 아직 최적 검증 오차가 비어있거나\n",
        "        # val_loss < best_val_loss = 새롭게 구한 검증 오차가 기존에 최적 검증 오차보다 작으면\n",
        "        # => 새로운 모델의 오차가 더 작으면\n",
        "        if not os.path.isdir(\"snapshot\"): # 스냅샷 폴더 없으면 만들어주세요\n",
        "            os.makedirs(\"snapshot\") # snapshot 폴더에 저장할 것임\n",
        "        torch.save(model.state_dict(), './snapshot/txtclassification.pt')\n",
        "        best_val_loss = val_loss # 오차 갱신"
      ],
      "metadata": {
        "colab": {
          "base_uri": "https://localhost:8080/"
        },
        "id": "iv4lh_IQaHWV",
        "outputId": "a69ea31c-02c3-4777-c3cf-febd43a75d82"
      },
      "execution_count": null,
      "outputs": [
        {
          "output_type": "stream",
          "name": "stdout",
          "text": [
            "[에포크: 1] 검증 오차: 0.69 | 검증 정확도:51.42\n",
            "[에포크: 2] 검증 오차: 0.70 | 검증 정확도:49.02\n",
            "[에포크: 3] 검증 오차: 0.69 | 검증 정확도:50.48\n",
            "[에포크: 4] 검증 오차: 0.69 | 검증 정확도:51.56\n",
            "[에포크: 5] 검증 오차: 0.69 | 검증 정확도:55.92\n",
            "[에포크: 6] 검증 오차: 0.46 | 검증 정확도:80.46\n",
            "[에포크: 7] 검증 오차: 0.32 | 검증 정확도:87.10\n",
            "[에포크: 8] 검증 오차: 0.30 | 검증 정확도:87.64\n",
            "[에포크: 9] 검증 오차: 0.30 | 검증 정확도:88.36\n",
            "[에포크: 10] 검증 오차: 0.31 | 검증 정확도:87.52\n"
          ]
        }
      ]
    },
    {
      "cell_type": "code",
      "source": [
        "model.load_state_dict(torch.load('./snapshot/txtclassification.pt'))\n",
        "test_loss, test_acc = evaluate(model, test_iter)\n",
        "print('테스트 오차: %5.2f | 테스트 정확도: %5.2f' % (test_loss, test_acc))"
      ],
      "metadata": {
        "colab": {
          "base_uri": "https://localhost:8080/"
        },
        "id": "RFuhJ3yXeDUJ",
        "outputId": "d07d3d46-1c56-49c0-91fe-a26a5f7beed7"
      },
      "execution_count": null,
      "outputs": [
        {
          "output_type": "stream",
          "name": "stdout",
          "text": [
            "테스트 오차:  0.30 | 테스트 정확도: 87.47\n"
          ]
        }
      ]
    },
    {
      "cell_type": "markdown",
      "source": [
        "# 한글 : 네이버 영화 리뷰 감정 분석"
      ],
      "metadata": {
        "id": "-dURPQNrk9H2"
      }
    },
    {
      "cell_type": "code",
      "source": [
        "# https://velog.io/@heiswicked/M1-Part11-%EB%B3%B5%EB%B6%88%EB%B3%B5%EC%84%A4%EC%B9%98-konlpy.tag-MECAB-on-M1-ver.221230\n",
        "!pip install konlpy\n",
        "!pip install mecab-python\n",
        "!bash <(curl -s https://raw.githubusercontent.com/konlpy/konlpy/master/scripts/mecab.sh)"
      ],
      "metadata": {
        "id": "YZ7pT26WlEZu"
      },
      "execution_count": null,
      "outputs": []
    },
    {
      "cell_type": "code",
      "source": [
        "# https://konlpy.org/ko/latest/index.html\n",
        "from konlpy.tag import Mecab\n",
        "import pandas as pd\n",
        "\n",
        "# https://github.com/e9t/nsmc/\n",
        "data_path = 'https://raw.githubusercontent.com/e9t/nsmc/master/'"
      ],
      "metadata": {
        "id": "FqIjo09xlGTY"
      },
      "execution_count": null,
      "outputs": []
    },
    {
      "cell_type": "code",
      "source": [
        "tokenizer = Mecab() # 형태소 분석기를 통한 토큰화\n",
        "\n",
        "# 훈련 데이터셋 & 시험 데이터셋\n",
        "trainset = pd.read_csv(data_path + \"ratings_train.txt\", sep='\\t') # tab으로 구분되어 있기 때문에 \\t를 구분자로 해서 read\n",
        "testset = pd.read_csv(data_path + \"ratings_test.txt\", sep='\\t')"
      ],
      "metadata": {
        "id": "e_nqPLx3l1u4"
      },
      "execution_count": null,
      "outputs": []
    },
    {
      "cell_type": "code",
      "source": [
        "trainset.head()"
      ],
      "metadata": {
        "colab": {
          "base_uri": "https://localhost:8080/",
          "height": 206
        },
        "id": "OcnUdl3km1nQ",
        "outputId": "37ca4458-6527-4c01-e9fc-e48b5a1eb021"
      },
      "execution_count": null,
      "outputs": [
        {
          "output_type": "execute_result",
          "data": {
            "text/plain": [
              "         id                                           document  label\n",
              "0   9976970                                아 더빙.. 진짜 짜증나네요 목소리      0\n",
              "1   3819312                  흠...포스터보고 초딩영화줄....오버연기조차 가볍지 않구나      1\n",
              "2  10265843                                  너무재밓었다그래서보는것을추천한다      0\n",
              "3   9045019                      교도소 이야기구먼 ..솔직히 재미는 없다..평점 조정      0\n",
              "4   6483659  사이몬페그의 익살스런 연기가 돋보였던 영화!스파이더맨에서 늙어보이기만 했던 커스틴 ...      1"
            ],
            "text/html": [
              "\n",
              "  <div id=\"df-01cfaa35-faab-49f6-825b-140457b0b2d9\">\n",
              "    <div class=\"colab-df-container\">\n",
              "      <div>\n",
              "<style scoped>\n",
              "    .dataframe tbody tr th:only-of-type {\n",
              "        vertical-align: middle;\n",
              "    }\n",
              "\n",
              "    .dataframe tbody tr th {\n",
              "        vertical-align: top;\n",
              "    }\n",
              "\n",
              "    .dataframe thead th {\n",
              "        text-align: right;\n",
              "    }\n",
              "</style>\n",
              "<table border=\"1\" class=\"dataframe\">\n",
              "  <thead>\n",
              "    <tr style=\"text-align: right;\">\n",
              "      <th></th>\n",
              "      <th>id</th>\n",
              "      <th>document</th>\n",
              "      <th>label</th>\n",
              "    </tr>\n",
              "  </thead>\n",
              "  <tbody>\n",
              "    <tr>\n",
              "      <th>0</th>\n",
              "      <td>9976970</td>\n",
              "      <td>아 더빙.. 진짜 짜증나네요 목소리</td>\n",
              "      <td>0</td>\n",
              "    </tr>\n",
              "    <tr>\n",
              "      <th>1</th>\n",
              "      <td>3819312</td>\n",
              "      <td>흠...포스터보고 초딩영화줄....오버연기조차 가볍지 않구나</td>\n",
              "      <td>1</td>\n",
              "    </tr>\n",
              "    <tr>\n",
              "      <th>2</th>\n",
              "      <td>10265843</td>\n",
              "      <td>너무재밓었다그래서보는것을추천한다</td>\n",
              "      <td>0</td>\n",
              "    </tr>\n",
              "    <tr>\n",
              "      <th>3</th>\n",
              "      <td>9045019</td>\n",
              "      <td>교도소 이야기구먼 ..솔직히 재미는 없다..평점 조정</td>\n",
              "      <td>0</td>\n",
              "    </tr>\n",
              "    <tr>\n",
              "      <th>4</th>\n",
              "      <td>6483659</td>\n",
              "      <td>사이몬페그의 익살스런 연기가 돋보였던 영화!스파이더맨에서 늙어보이기만 했던 커스틴 ...</td>\n",
              "      <td>1</td>\n",
              "    </tr>\n",
              "  </tbody>\n",
              "</table>\n",
              "</div>\n",
              "      <button class=\"colab-df-convert\" onclick=\"convertToInteractive('df-01cfaa35-faab-49f6-825b-140457b0b2d9')\"\n",
              "              title=\"Convert this dataframe to an interactive table.\"\n",
              "              style=\"display:none;\">\n",
              "        \n",
              "  <svg xmlns=\"http://www.w3.org/2000/svg\" height=\"24px\"viewBox=\"0 0 24 24\"\n",
              "       width=\"24px\">\n",
              "    <path d=\"M0 0h24v24H0V0z\" fill=\"none\"/>\n",
              "    <path d=\"M18.56 5.44l.94 2.06.94-2.06 2.06-.94-2.06-.94-.94-2.06-.94 2.06-2.06.94zm-11 1L8.5 8.5l.94-2.06 2.06-.94-2.06-.94L8.5 2.5l-.94 2.06-2.06.94zm10 10l.94 2.06.94-2.06 2.06-.94-2.06-.94-.94-2.06-.94 2.06-2.06.94z\"/><path d=\"M17.41 7.96l-1.37-1.37c-.4-.4-.92-.59-1.43-.59-.52 0-1.04.2-1.43.59L10.3 9.45l-7.72 7.72c-.78.78-.78 2.05 0 2.83L4 21.41c.39.39.9.59 1.41.59.51 0 1.02-.2 1.41-.59l7.78-7.78 2.81-2.81c.8-.78.8-2.07 0-2.86zM5.41 20L4 18.59l7.72-7.72 1.47 1.35L5.41 20z\"/>\n",
              "  </svg>\n",
              "      </button>\n",
              "      \n",
              "  <style>\n",
              "    .colab-df-container {\n",
              "      display:flex;\n",
              "      flex-wrap:wrap;\n",
              "      gap: 12px;\n",
              "    }\n",
              "\n",
              "    .colab-df-convert {\n",
              "      background-color: #E8F0FE;\n",
              "      border: none;\n",
              "      border-radius: 50%;\n",
              "      cursor: pointer;\n",
              "      display: none;\n",
              "      fill: #1967D2;\n",
              "      height: 32px;\n",
              "      padding: 0 0 0 0;\n",
              "      width: 32px;\n",
              "    }\n",
              "\n",
              "    .colab-df-convert:hover {\n",
              "      background-color: #E2EBFA;\n",
              "      box-shadow: 0px 1px 2px rgba(60, 64, 67, 0.3), 0px 1px 3px 1px rgba(60, 64, 67, 0.15);\n",
              "      fill: #174EA6;\n",
              "    }\n",
              "\n",
              "    [theme=dark] .colab-df-convert {\n",
              "      background-color: #3B4455;\n",
              "      fill: #D2E3FC;\n",
              "    }\n",
              "\n",
              "    [theme=dark] .colab-df-convert:hover {\n",
              "      background-color: #434B5C;\n",
              "      box-shadow: 0px 1px 3px 1px rgba(0, 0, 0, 0.15);\n",
              "      filter: drop-shadow(0px 1px 2px rgba(0, 0, 0, 0.3));\n",
              "      fill: #FFFFFF;\n",
              "    }\n",
              "  </style>\n",
              "\n",
              "      <script>\n",
              "        const buttonEl =\n",
              "          document.querySelector('#df-01cfaa35-faab-49f6-825b-140457b0b2d9 button.colab-df-convert');\n",
              "        buttonEl.style.display =\n",
              "          google.colab.kernel.accessAllowed ? 'block' : 'none';\n",
              "\n",
              "        async function convertToInteractive(key) {\n",
              "          const element = document.querySelector('#df-01cfaa35-faab-49f6-825b-140457b0b2d9');\n",
              "          const dataTable =\n",
              "            await google.colab.kernel.invokeFunction('convertToInteractive',\n",
              "                                                     [key], {});\n",
              "          if (!dataTable) return;\n",
              "\n",
              "          const docLinkHtml = 'Like what you see? Visit the ' +\n",
              "            '<a target=\"_blank\" href=https://colab.research.google.com/notebooks/data_table.ipynb>data table notebook</a>'\n",
              "            + ' to learn more about interactive tables.';\n",
              "          element.innerHTML = '';\n",
              "          dataTable['output_type'] = 'display_data';\n",
              "          await google.colab.output.renderOutput(dataTable, element);\n",
              "          const docLink = document.createElement('div');\n",
              "          docLink.innerHTML = docLinkHtml;\n",
              "          element.appendChild(docLink);\n",
              "        }\n",
              "      </script>\n",
              "    </div>\n",
              "  </div>\n",
              "  "
            ]
          },
          "metadata": {},
          "execution_count": 103
        }
      ]
    },
    {
      "cell_type": "code",
      "source": [
        "trainset.drop(columns=['id'], inplace=True)\n",
        "testset.drop(columns=['id'], inplace=True)"
      ],
      "metadata": {
        "id": "S2qSY-Gem7NP"
      },
      "execution_count": null,
      "outputs": []
    },
    {
      "cell_type": "code",
      "source": [
        "trainset.head()"
      ],
      "metadata": {
        "colab": {
          "base_uri": "https://localhost:8080/",
          "height": 206
        },
        "id": "GFZbEGS3nBHC",
        "outputId": "2c13e509-e07a-4195-e5c9-7def14a64840"
      },
      "execution_count": null,
      "outputs": [
        {
          "output_type": "execute_result",
          "data": {
            "text/plain": [
              "                                            document  label\n",
              "0                                아 더빙.. 진짜 짜증나네요 목소리      0\n",
              "1                  흠...포스터보고 초딩영화줄....오버연기조차 가볍지 않구나      1\n",
              "2                                  너무재밓었다그래서보는것을추천한다      0\n",
              "3                      교도소 이야기구먼 ..솔직히 재미는 없다..평점 조정      0\n",
              "4  사이몬페그의 익살스런 연기가 돋보였던 영화!스파이더맨에서 늙어보이기만 했던 커스틴 ...      1"
            ],
            "text/html": [
              "\n",
              "  <div id=\"df-1bd8cb6a-7af9-40c2-a24e-0bd0ebb8c626\">\n",
              "    <div class=\"colab-df-container\">\n",
              "      <div>\n",
              "<style scoped>\n",
              "    .dataframe tbody tr th:only-of-type {\n",
              "        vertical-align: middle;\n",
              "    }\n",
              "\n",
              "    .dataframe tbody tr th {\n",
              "        vertical-align: top;\n",
              "    }\n",
              "\n",
              "    .dataframe thead th {\n",
              "        text-align: right;\n",
              "    }\n",
              "</style>\n",
              "<table border=\"1\" class=\"dataframe\">\n",
              "  <thead>\n",
              "    <tr style=\"text-align: right;\">\n",
              "      <th></th>\n",
              "      <th>document</th>\n",
              "      <th>label</th>\n",
              "    </tr>\n",
              "  </thead>\n",
              "  <tbody>\n",
              "    <tr>\n",
              "      <th>0</th>\n",
              "      <td>아 더빙.. 진짜 짜증나네요 목소리</td>\n",
              "      <td>0</td>\n",
              "    </tr>\n",
              "    <tr>\n",
              "      <th>1</th>\n",
              "      <td>흠...포스터보고 초딩영화줄....오버연기조차 가볍지 않구나</td>\n",
              "      <td>1</td>\n",
              "    </tr>\n",
              "    <tr>\n",
              "      <th>2</th>\n",
              "      <td>너무재밓었다그래서보는것을추천한다</td>\n",
              "      <td>0</td>\n",
              "    </tr>\n",
              "    <tr>\n",
              "      <th>3</th>\n",
              "      <td>교도소 이야기구먼 ..솔직히 재미는 없다..평점 조정</td>\n",
              "      <td>0</td>\n",
              "    </tr>\n",
              "    <tr>\n",
              "      <th>4</th>\n",
              "      <td>사이몬페그의 익살스런 연기가 돋보였던 영화!스파이더맨에서 늙어보이기만 했던 커스틴 ...</td>\n",
              "      <td>1</td>\n",
              "    </tr>\n",
              "  </tbody>\n",
              "</table>\n",
              "</div>\n",
              "      <button class=\"colab-df-convert\" onclick=\"convertToInteractive('df-1bd8cb6a-7af9-40c2-a24e-0bd0ebb8c626')\"\n",
              "              title=\"Convert this dataframe to an interactive table.\"\n",
              "              style=\"display:none;\">\n",
              "        \n",
              "  <svg xmlns=\"http://www.w3.org/2000/svg\" height=\"24px\"viewBox=\"0 0 24 24\"\n",
              "       width=\"24px\">\n",
              "    <path d=\"M0 0h24v24H0V0z\" fill=\"none\"/>\n",
              "    <path d=\"M18.56 5.44l.94 2.06.94-2.06 2.06-.94-2.06-.94-.94-2.06-.94 2.06-2.06.94zm-11 1L8.5 8.5l.94-2.06 2.06-.94-2.06-.94L8.5 2.5l-.94 2.06-2.06.94zm10 10l.94 2.06.94-2.06 2.06-.94-2.06-.94-.94-2.06-.94 2.06-2.06.94z\"/><path d=\"M17.41 7.96l-1.37-1.37c-.4-.4-.92-.59-1.43-.59-.52 0-1.04.2-1.43.59L10.3 9.45l-7.72 7.72c-.78.78-.78 2.05 0 2.83L4 21.41c.39.39.9.59 1.41.59.51 0 1.02-.2 1.41-.59l7.78-7.78 2.81-2.81c.8-.78.8-2.07 0-2.86zM5.41 20L4 18.59l7.72-7.72 1.47 1.35L5.41 20z\"/>\n",
              "  </svg>\n",
              "      </button>\n",
              "      \n",
              "  <style>\n",
              "    .colab-df-container {\n",
              "      display:flex;\n",
              "      flex-wrap:wrap;\n",
              "      gap: 12px;\n",
              "    }\n",
              "\n",
              "    .colab-df-convert {\n",
              "      background-color: #E8F0FE;\n",
              "      border: none;\n",
              "      border-radius: 50%;\n",
              "      cursor: pointer;\n",
              "      display: none;\n",
              "      fill: #1967D2;\n",
              "      height: 32px;\n",
              "      padding: 0 0 0 0;\n",
              "      width: 32px;\n",
              "    }\n",
              "\n",
              "    .colab-df-convert:hover {\n",
              "      background-color: #E2EBFA;\n",
              "      box-shadow: 0px 1px 2px rgba(60, 64, 67, 0.3), 0px 1px 3px 1px rgba(60, 64, 67, 0.15);\n",
              "      fill: #174EA6;\n",
              "    }\n",
              "\n",
              "    [theme=dark] .colab-df-convert {\n",
              "      background-color: #3B4455;\n",
              "      fill: #D2E3FC;\n",
              "    }\n",
              "\n",
              "    [theme=dark] .colab-df-convert:hover {\n",
              "      background-color: #434B5C;\n",
              "      box-shadow: 0px 1px 3px 1px rgba(0, 0, 0, 0.15);\n",
              "      filter: drop-shadow(0px 1px 2px rgba(0, 0, 0, 0.3));\n",
              "      fill: #FFFFFF;\n",
              "    }\n",
              "  </style>\n",
              "\n",
              "      <script>\n",
              "        const buttonEl =\n",
              "          document.querySelector('#df-1bd8cb6a-7af9-40c2-a24e-0bd0ebb8c626 button.colab-df-convert');\n",
              "        buttonEl.style.display =\n",
              "          google.colab.kernel.accessAllowed ? 'block' : 'none';\n",
              "\n",
              "        async function convertToInteractive(key) {\n",
              "          const element = document.querySelector('#df-1bd8cb6a-7af9-40c2-a24e-0bd0ebb8c626');\n",
              "          const dataTable =\n",
              "            await google.colab.kernel.invokeFunction('convertToInteractive',\n",
              "                                                     [key], {});\n",
              "          if (!dataTable) return;\n",
              "\n",
              "          const docLinkHtml = 'Like what you see? Visit the ' +\n",
              "            '<a target=\"_blank\" href=https://colab.research.google.com/notebooks/data_table.ipynb>data table notebook</a>'\n",
              "            + ' to learn more about interactive tables.';\n",
              "          element.innerHTML = '';\n",
              "          dataTable['output_type'] = 'display_data';\n",
              "          await google.colab.output.renderOutput(dataTable, element);\n",
              "          const docLink = document.createElement('div');\n",
              "          docLink.innerHTML = docLinkHtml;\n",
              "          element.appendChild(docLink);\n",
              "        }\n",
              "      </script>\n",
              "    </div>\n",
              "  </div>\n",
              "  "
            ]
          },
          "metadata": {},
          "execution_count": 105
        }
      ]
    },
    {
      "cell_type": "code",
      "source": [
        "trainset.info()"
      ],
      "metadata": {
        "colab": {
          "base_uri": "https://localhost:8080/"
        },
        "id": "0f6Nx9CvnXjT",
        "outputId": "9112a50a-6875-4c44-c0e5-52b3b0b07310"
      },
      "execution_count": null,
      "outputs": [
        {
          "output_type": "stream",
          "name": "stdout",
          "text": [
            "<class 'pandas.core.frame.DataFrame'>\n",
            "RangeIndex: 150000 entries, 0 to 149999\n",
            "Data columns (total 2 columns):\n",
            " #   Column    Non-Null Count   Dtype \n",
            "---  ------    --------------   ----- \n",
            " 0   document  149995 non-null  object\n",
            " 1   label     150000 non-null  int64 \n",
            "dtypes: int64(1), object(1)\n",
            "memory usage: 2.3+ MB\n"
          ]
        }
      ]
    },
    {
      "cell_type": "code",
      "source": [
        "from sklearn.model_selection import train_test_split\n",
        "# 1. 결측치 (nan) 제거\n",
        "# 2. 훈련셋에서 30% -> 검증셋으로 분리\n",
        "train_data = trainset.dropna() # 말뭉치에서 nan 값을 제거\n",
        "test_data = testset.dropna()\n",
        "train_data, valid_data = train_test_split(train_data, test_size=0.3, random_state=71)"
      ],
      "metadata": {
        "id": "YWoqBgR_nLYJ"
      },
      "execution_count": null,
      "outputs": []
    },
    {
      "cell_type": "code",
      "source": [
        "# TEXT, Label\n",
        "TEXT = data.Field(sequential=True, use_vocab=True, tokenize=tokenizer.morphs,\n",
        "                  lower=False, batch_first=True, fix_length=20) # 모든 품사 (모든 단어)\n",
        "# TEXT = data.Field(sequential=True, use_vocab=True, tokenize=tokenizer.nouns,\n",
        "#                   lower=False, batch_first=True) # 명사만\n",
        "# LABEL = data.LabelField(batch_first=True, dtype=torch.float)\n",
        "LABEL = data.Field(sequential=False, batch_first=True)"
      ],
      "metadata": {
        "id": "d_qJgkUMntK2"
      },
      "execution_count": null,
      "outputs": []
    },
    {
      "cell_type": "code",
      "source": [
        "# 파이토치용 (텍스트) 데이터셋으로 변환\n",
        "# input_data = pandas df => iterrows() => row (document, label) => TEXT, LABEL\n",
        "def convert_dataset(input_data, text, label):\n",
        "    list_of_example = [data.Example.fromlist(row.tolist(),\n",
        "                                             fields=[('text', text), ('label', label)])\n",
        "                        for _, row in input_data.iterrows()]\n",
        "    dataset = data.Dataset(examples=list_of_example, fields=[('text', text), ('label', label)])\n",
        "    return dataset"
      ],
      "metadata": {
        "id": "gtA7bE93oqMv"
      },
      "execution_count": null,
      "outputs": []
    },
    {
      "cell_type": "code",
      "source": [
        "train_data = convert_dataset(train_data, TEXT, LABEL)\n",
        "valid_data = convert_dataset(valid_data, TEXT, LABEL)\n",
        "test_data = convert_dataset(test_data, TEXT, LABEL)"
      ],
      "metadata": {
        "id": "07KZ2pUHpbiu"
      },
      "execution_count": null,
      "outputs": []
    },
    {
      "cell_type": "code",
      "source": [
        "train_data.examples[0].text, train_data.examples[0].label"
      ],
      "metadata": {
        "colab": {
          "base_uri": "https://localhost:8080/"
        },
        "id": "pfvtMVE9tJq1",
        "outputId": "da7160d5-dbc8-486a-9e8e-7152c4799694"
      },
      "execution_count": null,
      "outputs": [
        {
          "output_type": "execute_result",
          "data": {
            "text/plain": [
              "(['라이터', '신', '개'], 0)"
            ]
          },
          "metadata": {},
          "execution_count": 111
        }
      ]
    },
    {
      "cell_type": "code",
      "source": [
        "train_data.examples[0].text, train_data.examples[0].label"
      ],
      "metadata": {
        "colab": {
          "base_uri": "https://localhost:8080/"
        },
        "id": "nOaBM6cKpwlm",
        "outputId": "b2c41434-f09e-4be8-fc94-260c0f0d051c"
      },
      "execution_count": null,
      "outputs": [
        {
          "output_type": "execute_result",
          "data": {
            "text/plain": [
              "(8137321, '라이터 던지는 신에서 개뿜었다')"
            ]
          },
          "metadata": {},
          "execution_count": 101
        }
      ]
    },
    {
      "cell_type": "code",
      "source": [
        "train_data.examples[10].text, train_data.examples[10].label"
      ],
      "metadata": {
        "colab": {
          "base_uri": "https://localhost:8080/"
        },
        "id": "ZOH3VCnHqD2T",
        "outputId": "7b7c5420-98f6-4b18-ff5f-752286ccf483"
      },
      "execution_count": null,
      "outputs": [
        {
          "output_type": "execute_result",
          "data": {
            "text/plain": [
              "(7310000, '중국영화 ㄷㄷㄷㄷㄷㄷ 액션은 역시 헐리우드급')"
            ]
          },
          "metadata": {},
          "execution_count": 85
        }
      ]
    },
    {
      "cell_type": "code",
      "source": [
        "# 단어 사전\n",
        "TEXT.build_vocab(train_data, max_size=10000)\n",
        "# TEXT.build_vocab(train_data, min_freq=5)\n",
        "LABEL.build_vocab(train_data)"
      ],
      "metadata": {
        "id": "8HG2-B7VqKo4"
      },
      "execution_count": null,
      "outputs": []
    },
    {
      "cell_type": "code",
      "source": [
        "TEXT.vocab.freqs.most_common(10)"
      ],
      "metadata": {
        "colab": {
          "base_uri": "https://localhost:8080/"
        },
        "id": "hgtHACJbqU3d",
        "outputId": "6a27ae39-9fba-4fa9-beec-12eacd8ee3fb"
      },
      "execution_count": null,
      "outputs": [
        {
          "output_type": "execute_result",
          "data": {
            "text/plain": [
              "[('영화', 40502),\n",
              " ('것', 6445),\n",
              " ('점', 6015),\n",
              " ('수', 5301),\n",
              " ('거', 5285),\n",
              " ('연기', 4858),\n",
              " ('최고', 4650),\n",
              " ('평점', 4348),\n",
              " ('스토리', 3808),\n",
              " ('말', 3648)]"
            ]
          },
          "metadata": {},
          "execution_count": 113
        }
      ]
    },
    {
      "cell_type": "code",
      "source": [
        "# BATCH_SIZE = 64\n",
        "# 학습에 사용될 iter 정의\n",
        "train_iter, val_iter, test_iter = data.Iterator.splits(\n",
        "    (train_data, valid_data, test_data),\n",
        "    batch_size=BATCH_SIZE,\n",
        "    shuffle=True, repeat=False, sort=False, device=DEVICE\n",
        ")"
      ],
      "metadata": {
        "id": "_BjFEJmAqlvA"
      },
      "execution_count": null,
      "outputs": []
    },
    {
      "cell_type": "code",
      "source": [
        "# vocab_size\n",
        "vocab_size = len(TEXT.vocab)"
      ],
      "metadata": {
        "id": "JwJY5dx8rFim"
      },
      "execution_count": null,
      "outputs": []
    },
    {
      "cell_type": "code",
      "source": [
        "vocab_size"
      ],
      "metadata": {
        "colab": {
          "base_uri": "https://localhost:8080/"
        },
        "id": "9M-Y62norOYM",
        "outputId": "6ac00740-8069-4da0-a05d-f6af4d963cff"
      },
      "execution_count": null,
      "outputs": [
        {
          "output_type": "execute_result",
          "data": {
            "text/plain": [
              "8070"
            ]
          },
          "metadata": {},
          "execution_count": 116
        }
      ]
    },
    {
      "cell_type": "code",
      "source": [
        "# n_classes = 2\n",
        "model = BasicGRU(1, 256, vocab_size, 128, n_classes, 0.5).to(DEVICE)\n",
        "# model = BasicGRU(2, 256, vocab_size, 128, n_classes, 0.5).to(DEVICE)"
      ],
      "metadata": {
        "id": "8MPMsuSTrRJO"
      },
      "execution_count": null,
      "outputs": []
    },
    {
      "cell_type": "code",
      "source": [
        "lr = 0.001\n",
        "# lr = 0.0001\n",
        "optimizer = torch.optim.Adam(model.parameters(), lr=lr)"
      ],
      "metadata": {
        "id": "LIPtY-97rdgN"
      },
      "execution_count": null,
      "outputs": []
    },
    {
      "cell_type": "code",
      "source": [
        "# 학습\n",
        "EPOCHS = 10\n",
        "# EPOCHS = 20\n",
        "best_val_loss = None # 검증 오차를 최소화\n",
        "for epoch in range(1, EPOCHS+1):\n",
        "    train(model, optimizer, train_iter)\n",
        "    val_loss, val_accuracy = evaluate(model, val_iter)\n",
        "\n",
        "    print(f\"[에포크: {epoch}] 검증 오차:{val_loss:5.2f} | 검증 정확도:{val_accuracy:5.2f}\")\n",
        "\n",
        "    if not best_val_loss or val_loss < best_val_loss:\n",
        "        if not os.path.isdir(\"snapshot\"): \n",
        "            os.makedirs(\"snapshot\")\n",
        "        torch.save(model.state_dict(), './snapshot/txtclassification_ko.pt')\n",
        "        best_val_loss = val_loss"
      ],
      "metadata": {
        "colab": {
          "base_uri": "https://localhost:8080/"
        },
        "id": "c4TwgwP9rlPM",
        "outputId": "284cb0ef-8053-4add-a782-bb25f756e22f"
      },
      "execution_count": null,
      "outputs": [
        {
          "output_type": "stream",
          "name": "stdout",
          "text": [
            "[에포크: 1] 검증 오차: 0.55 | 검증 정확도:69.69\n",
            "[에포크: 2] 검증 오차: 0.53 | 검증 정확도:71.82\n",
            "[에포크: 3] 검증 오차: 0.52 | 검증 정확도:72.38\n",
            "[에포크: 4] 검증 오차: 0.51 | 검증 정확도:72.96\n",
            "[에포크: 5] 검증 오차: 0.51 | 검증 정확도:72.64\n",
            "[에포크: 6] 검증 오차: 0.51 | 검증 정확도:73.94\n",
            "[에포크: 7] 검증 오차: 0.51 | 검증 정확도:73.47\n",
            "[에포크: 8] 검증 오차: 0.50 | 검증 정확도:73.65\n",
            "[에포크: 9] 검증 오차: 0.53 | 검증 정확도:73.30\n",
            "[에포크: 10] 검증 오차: 0.53 | 검증 정확도:73.45\n",
            "[에포크: 11] 검증 오차: 0.53 | 검증 정확도:73.85\n",
            "[에포크: 12] 검증 오차: 0.54 | 검증 정확도:73.78\n",
            "[에포크: 13] 검증 오차: 0.55 | 검증 정확도:73.90\n",
            "[에포크: 14] 검증 오차: 0.56 | 검증 정확도:73.41\n",
            "[에포크: 15] 검증 오차: 0.57 | 검증 정확도:73.21\n",
            "[에포크: 16] 검증 오차: 0.58 | 검증 정확도:73.24\n",
            "[에포크: 17] 검증 오차: 0.61 | 검증 정확도:73.26\n",
            "[에포크: 18] 검증 오차: 0.64 | 검증 정확도:73.16\n",
            "[에포크: 19] 검증 오차: 0.67 | 검증 정확도:73.07\n",
            "[에포크: 20] 검증 오차: 0.66 | 검증 정확도:72.90\n"
          ]
        }
      ]
    },
    {
      "cell_type": "code",
      "source": [
        "model.load_state_dict(torch.load('./snapshot/txtclassification_ko.pt'))\n",
        "test_loss, test_acc = evaluate(model, test_iter)\n",
        "print('테스트 오차: %5.2f | 테스트 정확도: %5.2f' % (test_loss, test_acc))"
      ],
      "metadata": {
        "colab": {
          "base_uri": "https://localhost:8080/"
        },
        "id": "AzAMutbAr9zt",
        "outputId": "202d1f58-fadb-429b-b877-2734bcd47c44"
      },
      "execution_count": null,
      "outputs": [
        {
          "output_type": "stream",
          "name": "stdout",
          "text": [
            "테스트 오차:  0.50 | 테스트 정확도: 73.68\n"
          ]
        }
      ]
    }
  ]
}